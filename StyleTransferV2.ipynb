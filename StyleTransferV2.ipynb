{
  "nbformat": 4,
  "nbformat_minor": 0,
  "metadata": {
    "colab": {
      "name": "StyleTransferV2.ipynb",
      "provenance": []
    },
    "kernelspec": {
      "name": "python3",
      "display_name": "Python 3"
    },
    "accelerator": "GPU"
  },
  "cells": [
    {
      "cell_type": "code",
      "metadata": {
        "id": "5b0q_g7ipnAd",
        "colab_type": "code",
        "colab": {
          "base_uri": "https://localhost:8080/",
          "height": 35
        },
        "outputId": "3c234bb4-9235-4e2a-88b3-1047c5da06a7"
      },
      "source": [
        "%tensorflow_version 2.x\n",
        "import tensorflow as tf\n",
        "device_name = tf.test.gpu_device_name()\n",
        "if device_name != '/device:GPU:0':\n",
        "  raise SystemError('GPU device not found')\n",
        "print('Found GPU at: {}'.format(device_name))\n",
        "\n",
        "\n",
        "import numpy as np\n",
        "from PIL import Image\n",
        "from io import BytesIO\n",
        "from keras.applications.vgg19 import VGG19\n",
        "from keras.applications.vgg19 import preprocess_input\n",
        "from keras.preprocessing.image import load_img\n",
        "from keras.preprocessing.image import img_to_array\n",
        "from keras.models import Model\n",
        "import keras.backend as K\n",
        "from matplotlib import pyplot as plt\n",
        "from numpy import expand_dims\n",
        "import tensorflow as tf\n",
        "from tensorflow import GradientTape"
      ],
      "execution_count": 115,
      "outputs": [
        {
          "output_type": "stream",
          "text": [
            "Found GPU at: /device:GPU:0\n"
          ],
          "name": "stdout"
        }
      ]
    },
    {
      "cell_type": "code",
      "metadata": {
        "id": "zbOcfpl5pw5o",
        "colab_type": "code",
        "colab": {}
      },
      "source": [
        "ITERATIONS = 10\n",
        "CHANNELS = 3\n",
        "IMAGE_SIZE = 500\n",
        "IMAGE_WIDTH = IMAGE_SIZE\n",
        "IMAGE_HEIGHT = IMAGE_SIZE\n",
        "CONTENT_WEIGHT = 0.02\n",
        "STYLE_WEIGHT = 4.5\n",
        "TOTAL_VARIATION_WEIGHT = 0.995\n",
        "TOTAL_VARIATION_LOSS_FACTOR = 1.25\n",
        "\n",
        "MEAN = np.array([103.939, 116.779, 123.68])\n",
        "\n",
        "CONTENT_LAYERS = ['block4_conv2']\n",
        "STYLE_LAYERS = ['block1_conv1', 'block2_conv1', 'block3_conv1', 'block4_conv1', 'block5_conv1']\n",
        "\n",
        "input_image_path = \"input.png\"\n",
        "style_image_path = \"style.png\"\n",
        "output_image_path = \"output.png\"\n",
        "combined_image_path = \"combined.png\"\n",
        "\n",
        "san_francisco_image_path = \"https://www.economist.com/sites/default/files/images/print-edition/20180602_USP001_0.jpg\"\n",
        "\n",
        "tytus_image_path = \"http://meetingbenches.com/wp-content/flagallery/tytus-brzozowski-polish-architect-and-watercolorist-a-fairy-tale-in-warsaw/tytus_brzozowski_13.jpg\"\n",
        "\n",
        " \n",
        "input_image = Image.open(BytesIO(requests.get(san_francisco_image_path).content))\n",
        "input_image = input_image.resize((IMAGE_WIDTH, IMAGE_HEIGHT))\n",
        "input_image.save(input_image_path)\n",
        "#input_image\n",
        "\n",
        "# Style visualization \n",
        "style_image = Image.open(BytesIO(requests.get(tytus_image_path).content))\n",
        "style_image = style_image.resize((IMAGE_WIDTH, IMAGE_HEIGHT))\n",
        "style_image.save(style_image_path)\n",
        "#style_image"
      ],
      "execution_count": 0,
      "outputs": []
    },
    {
      "cell_type": "code",
      "metadata": {
        "id": "Q-AELEx7qVR_",
        "colab_type": "code",
        "colab": {}
      },
      "source": [
        "def obter_modelo():\n",
        "\n",
        "  modelo = VGG19(include_top = False, weights = 'imagenet', input_tensor = None)\n",
        "\n",
        "  #modelo.trainable = False\n",
        "\n",
        "  c_layer = CONTENT_LAYERS\n",
        "  s_layers = STYLE_LAYERS\n",
        "\n",
        "  output_layers = [modelo.get_layer(layer).output for layer in (c_layer + s_layers)]\n",
        "  \n",
        "  return Model(modelo.inputs, output_layers)\n",
        "\n",
        "\n"
      ],
      "execution_count": 0,
      "outputs": []
    },
    {
      "cell_type": "code",
      "metadata": {
        "id": "YWL9O5KruJCW",
        "colab_type": "code",
        "colab": {}
      },
      "source": [
        "def processar_imagem(img):\n",
        "\n",
        "  imagem = img.resize((IMAGE_HEIGHT, IMAGE_WIDTH))\n",
        "  imagem = img_to_array(imagem)\n",
        "  imagem = preprocess_input(imagem)\n",
        "  imagem = expand_dims(imagem, axis=0)\n",
        "  \n",
        "  return imagem\n",
        "\n",
        "def desprocessar_imagem(img):\n",
        "  imagem = img\n",
        "  mean = MEAN\n",
        "  imagem[..., 0] += mean[0]\n",
        "  imagem[..., 1] += mean[1]\n",
        "  imagem[..., 2] += mean[2]\n",
        "  imagem = imagem[..., ::-1]\n",
        "\n",
        "  return imagem.astype(int)"
      ],
      "execution_count": 0,
      "outputs": []
    },
    {
      "cell_type": "code",
      "metadata": {
        "id": "RT_brJpaxoFB",
        "colab_type": "code",
        "colab": {}
      },
      "source": [
        "def content_loss(c_mat, out_mat):\n",
        "  return 0.5 * K.sum(K.square(out_mat - c_mat))\n",
        "\n",
        "\n",
        "def matriz_gram(mat):\n",
        "  return K.dot(mat,K.transpose(mat))\n",
        "\n",
        "\n",
        "def style_loss(s_mat, out_mat):\n",
        "\n",
        "  style_feat = K.batch_flatten(K.permute_dimensions(s_mat,(2,0,1)))\n",
        "  output_feat = K.batch_flatten(K.permute_dimensions(out_mat,(2,0,1)))\n",
        "\n",
        "  style_gram = matriz_gram(style_feat)\n",
        "  output_gram = matriz_gram(output_feat)\n",
        "\n",
        "  return K.sum(K.square(style_gram - output_gram)) / (4.0 * (CHANNELS ** 2) * (IMAGE_SIZE ** 2))\n",
        "\n",
        "\n",
        "def total_loss(c_layer, s_layers, out_layers):\n",
        "\n",
        "  content_layer = c_layer[0]\n",
        "  out_content = out_layers[0]\n",
        "\n",
        "  style_layers = s_layers[1:]\n",
        "  out_style = out_layers[1:]\n",
        "\n",
        "  c_loss = content_loss(content_layer[0], out_content[0])\n",
        "\n",
        "  s_loss = None\n",
        "\n",
        "  for i in range(len(style_layers)):\n",
        "    if s_loss is None:\n",
        "      s_loss = style_loss(style_layers[i][0], out_style[i][0])\n",
        "    \n",
        "    else:\n",
        "      s_loss += style_loss(style_layers[i][0], out_style[i][0])\n",
        "  \n",
        "  return CONTENT_WEIGHT * c_loss + (STYLE_WEIGHT * s_loss)/len(style_layers)"
      ],
      "execution_count": 0,
      "outputs": []
    },
    {
      "cell_type": "code",
      "metadata": {
        "id": "U2jqMQwXumR-",
        "colab_type": "code",
        "colab": {}
      },
      "source": [
        "modelo = obter_modelo()\n",
        "\n",
        "#content image\n",
        "content_processado = processar_imagem(input_image)\n",
        "content_feats = modelo(K.variable(content_processado))\n",
        "\n",
        "#style image\n",
        "style_processado = processar_imagem(style_image)\n",
        "style_feats = modelo(K.variable(style_processado))\n",
        "\n",
        "#output image\n",
        "output_processado = preprocess_input(np.random.uniform(0,250,(IMAGE_HEIGHT, IMAGE_WIDTH,CHANNELS)))\n",
        "output_processado = expand_dims(output_processado, axis=0)\n",
        "output_processado = K.variable(output_processado)"
      ],
      "execution_count": 0,
      "outputs": []
    },
    {
      "cell_type": "code",
      "metadata": {
        "id": "2klDhS-NZB-J",
        "colab_type": "code",
        "colab": {}
      },
      "source": [
        "optimizer = tf.optimizers.Adam(5,beta_1=.99,epsilon=1e-3)"
      ],
      "execution_count": 0,
      "outputs": []
    },
    {
      "cell_type": "code",
      "metadata": {
        "id": "klT_cP45ZtIX",
        "colab_type": "code",
        "colab": {
          "base_uri": "https://localhost:8080/",
          "height": 395
        },
        "outputId": "f264fc0e-7c2b-4b11-a69a-d94877a0207e"
      },
      "source": [
        "epochs=200\n",
        "\n",
        "melhor_loss = 2000000000\n",
        "melhor_imagem = None\n",
        "\n",
        "min_value = MEAN\n",
        "max_value = 255 + MEAN\n",
        "loss = 0.0\n",
        "\n",
        "for e in range(epochs):\n",
        "  with tf.GradientTape() as tape:\n",
        "    tape.watch(output_processado)\n",
        "    output_feats = modelo(output_processado)\n",
        "\n",
        "    loss = total_loss(content_feats, style_feats, output_feats)\n",
        "\n",
        "    grad = tape.gradient(loss, output_processado)\n",
        "    optimizer.apply_gradients(zip([grad],[output_processado]))\n",
        "\n",
        "    clip = tf.clip_by_value(output, min_value, max_value)\n",
        "    output_processado.assign(clip)\n",
        "  if loss < melhor_loss:\n",
        "    melhor_imagem = output_processado\n",
        "    melhor_loss = loss\n",
        "    print(\"Epoch: \" + e + \"Loss diminui para \" + melhor_loss)\n",
        "\n",
        "    "
      ],
      "execution_count": 236,
      "outputs": [
        {
          "output_type": "error",
          "ename": "ValueError",
          "evalue": "ignored",
          "traceback": [
            "\u001b[0;31m---------------------------------------------------------------------------\u001b[0m",
            "\u001b[0;31mValueError\u001b[0m                                Traceback (most recent call last)",
            "\u001b[0;32m<ipython-input-236-4b717f5a772e>\u001b[0m in \u001b[0;36m<module>\u001b[0;34m()\u001b[0m\n\u001b[1;32m     16\u001b[0m \u001b[0;34m\u001b[0m\u001b[0m\n\u001b[1;32m     17\u001b[0m     \u001b[0mgrad\u001b[0m \u001b[0;34m=\u001b[0m \u001b[0mtape\u001b[0m\u001b[0;34m.\u001b[0m\u001b[0mgradient\u001b[0m\u001b[0;34m(\u001b[0m\u001b[0mloss\u001b[0m\u001b[0;34m,\u001b[0m \u001b[0moutput_processado\u001b[0m\u001b[0;34m)\u001b[0m\u001b[0;34m\u001b[0m\u001b[0;34m\u001b[0m\u001b[0m\n\u001b[0;32m---> 18\u001b[0;31m     \u001b[0moptimizer\u001b[0m\u001b[0;34m.\u001b[0m\u001b[0mapply_gradients\u001b[0m\u001b[0;34m(\u001b[0m\u001b[0mzip\u001b[0m\u001b[0;34m(\u001b[0m\u001b[0;34m[\u001b[0m\u001b[0mgrad\u001b[0m\u001b[0;34m]\u001b[0m\u001b[0;34m,\u001b[0m\u001b[0;34m[\u001b[0m\u001b[0moutput_processado\u001b[0m\u001b[0;34m]\u001b[0m\u001b[0;34m)\u001b[0m\u001b[0;34m)\u001b[0m\u001b[0;34m\u001b[0m\u001b[0;34m\u001b[0m\u001b[0m\n\u001b[0m\u001b[1;32m     19\u001b[0m \u001b[0;34m\u001b[0m\u001b[0m\n\u001b[1;32m     20\u001b[0m     \u001b[0mclip\u001b[0m \u001b[0;34m=\u001b[0m \u001b[0mtf\u001b[0m\u001b[0;34m.\u001b[0m\u001b[0mclip_by_value\u001b[0m\u001b[0;34m(\u001b[0m\u001b[0moutput\u001b[0m\u001b[0;34m,\u001b[0m \u001b[0mmin_value\u001b[0m\u001b[0;34m,\u001b[0m \u001b[0mmax_value\u001b[0m\u001b[0;34m)\u001b[0m\u001b[0;34m\u001b[0m\u001b[0;34m\u001b[0m\u001b[0m\n",
            "\u001b[0;32m/usr/local/lib/python3.6/dist-packages/tensorflow/python/keras/optimizer_v2/optimizer_v2.py\u001b[0m in \u001b[0;36mapply_gradients\u001b[0;34m(self, grads_and_vars, name, experimental_aggregate_gradients)\u001b[0m\n\u001b[1;32m    470\u001b[0m       \u001b[0mValueError\u001b[0m\u001b[0;34m:\u001b[0m \u001b[0mIf\u001b[0m \u001b[0mnone\u001b[0m \u001b[0mof\u001b[0m \u001b[0mthe\u001b[0m \u001b[0mvariables\u001b[0m \u001b[0mhave\u001b[0m \u001b[0mgradients\u001b[0m\u001b[0;34m.\u001b[0m\u001b[0;34m\u001b[0m\u001b[0;34m\u001b[0m\u001b[0m\n\u001b[1;32m    471\u001b[0m     \"\"\"\n\u001b[0;32m--> 472\u001b[0;31m     \u001b[0mgrads_and_vars\u001b[0m \u001b[0;34m=\u001b[0m \u001b[0m_filter_grads\u001b[0m\u001b[0;34m(\u001b[0m\u001b[0mgrads_and_vars\u001b[0m\u001b[0;34m)\u001b[0m\u001b[0;34m\u001b[0m\u001b[0;34m\u001b[0m\u001b[0m\n\u001b[0m\u001b[1;32m    473\u001b[0m     \u001b[0mvar_list\u001b[0m \u001b[0;34m=\u001b[0m \u001b[0;34m[\u001b[0m\u001b[0mv\u001b[0m \u001b[0;32mfor\u001b[0m \u001b[0;34m(\u001b[0m\u001b[0m_\u001b[0m\u001b[0;34m,\u001b[0m \u001b[0mv\u001b[0m\u001b[0;34m)\u001b[0m \u001b[0;32min\u001b[0m \u001b[0mgrads_and_vars\u001b[0m\u001b[0;34m]\u001b[0m\u001b[0;34m\u001b[0m\u001b[0;34m\u001b[0m\u001b[0m\n\u001b[1;32m    474\u001b[0m \u001b[0;34m\u001b[0m\u001b[0m\n",
            "\u001b[0;32m/usr/local/lib/python3.6/dist-packages/tensorflow/python/keras/optimizer_v2/optimizer_v2.py\u001b[0m in \u001b[0;36m_filter_grads\u001b[0;34m(grads_and_vars)\u001b[0m\n\u001b[1;32m   1217\u001b[0m   \u001b[0;32mif\u001b[0m \u001b[0;32mnot\u001b[0m \u001b[0mfiltered\u001b[0m\u001b[0;34m:\u001b[0m\u001b[0;34m\u001b[0m\u001b[0;34m\u001b[0m\u001b[0m\n\u001b[1;32m   1218\u001b[0m     raise ValueError(\"No gradients provided for any variable: %s.\" %\n\u001b[0;32m-> 1219\u001b[0;31m                      ([v.name for _, v in grads_and_vars],))\n\u001b[0m\u001b[1;32m   1220\u001b[0m   \u001b[0;32mif\u001b[0m \u001b[0mvars_with_empty_grads\u001b[0m\u001b[0;34m:\u001b[0m\u001b[0;34m\u001b[0m\u001b[0;34m\u001b[0m\u001b[0m\n\u001b[1;32m   1221\u001b[0m     logging.warning(\n",
            "\u001b[0;31mValueError\u001b[0m: No gradients provided for any variable: ['Variable:0']."
          ]
        }
      ]
    }
  ]
}